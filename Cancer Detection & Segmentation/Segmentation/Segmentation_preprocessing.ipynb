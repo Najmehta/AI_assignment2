{
  "nbformat": 4,
  "nbformat_minor": 0,
  "metadata": {
    "colab": {
      "name": "Preprocessing2.ipynb",
      "version": "0.3.2",
      "views": {},
      "default_view": {},
      "provenance": []
    },
    "kernelspec": {
      "display_name": "Python 2",
      "language": "python",
      "name": "python2"
    }
  },
  "cells": [
    {
      "metadata": {
        "id": "2jMbOXmVrpI_",
        "colab_type": "code",
        "colab": {
          "autoexec": {
            "startup": false,
            "wait_interval": 0
          }
        },
        "outputId": "5acfe602-b84e-4624-9854-ceb0872cae10"
      },
      "cell_type": "code",
      "source": [
        "import keras\n",
        "from keras.layers import Activation\n",
        "from keras.layers import Conv2D, MaxPooling2D\n",
        "from keras.models import Model\n",
        "from keras.layers import Input\n",
        "from keras.layers import BatchNormalization\n",
        "from keras.layers import UpSampling2D\n",
        "from keras.layers import Concatenate\n",
        "from keras.layers import Lambda \n",
        "from keras.utils import to_categorical\n",
        "import tensorflow as tf\n",
        "\n",
        "from keras.layers import Reshape\n",
        "\n",
        "from keras import backend as K\n",
        "from keras import regularizers, optimizers\n",
        "%matplotlib inline"
      ],
      "execution_count": 0,
      "outputs": [
        {
          "output_type": "stream",
          "text": [
            "Using TensorFlow backend.\n"
          ],
          "name": "stderr"
        }
      ]
    },
    {
      "metadata": {
        "id": "CNtpgPufrpJT",
        "colab_type": "code",
        "colab": {
          "autoexec": {
            "startup": false,
            "wait_interval": 0
          }
        }
      },
      "cell_type": "code",
      "source": [
        "import scipy.io as scio\n",
        "import numpy as np    \n",
        "import os\n",
        "import matplotlib.pyplot as plt\n",
        "import math\n",
        "import re\n",
        "from scipy.misc import imsave\n",
        "from scipy import ndimage, misc\n",
        "from numpy import unravel_index\n",
        "from operator import sub"
      ],
      "execution_count": 0,
      "outputs": []
    },
    {
      "metadata": {
        "id": "TsiwLCBVrpJc",
        "colab_type": "code",
        "colab": {
          "autoexec": {
            "startup": false,
            "wait_interval": 0
          }
        }
      },
      "cell_type": "code",
      "source": [
        "def atoi(text) : \n",
        "    return int(text) if text.isdigit() else text"
      ],
      "execution_count": 0,
      "outputs": []
    },
    {
      "metadata": {
        "id": "jQQT-d2srpJm",
        "colab_type": "code",
        "colab": {
          "autoexec": {
            "startup": false,
            "wait_interval": 0
          }
        }
      },
      "cell_type": "code",
      "source": [
        "def natural_keys(text) :\n",
        "    return [atoi(c) for c in re.split('(\\d+)', text)]"
      ],
      "execution_count": 0,
      "outputs": []
    },
    {
      "metadata": {
        "id": "2ph7IzcbrpJu",
        "colab_type": "code",
        "colab": {
          "autoexec": {
            "startup": false,
            "wait_interval": 0
          }
        }
      },
      "cell_type": "code",
      "source": [
        "root_path = \"\"\n",
        "filenames = []\n",
        "for root, dirnames, filenames in os.walk(\"C:/Mahe/Desktop/melanoma\"):\n",
        "    filenames.sort(key = natural_keys)\n",
        "    rootpath = root"
      ],
      "execution_count": 0,
      "outputs": []
    },
    {
      "metadata": {
        "id": "eO8Vm0ZNUEw7",
        "colab_type": "code",
        "colab": {
          "autoexec": {
            "startup": false,
            "wait_interval": 0
          }
        }
      },
      "cell_type": "code",
      "source": [
        "melanoma_images = []\n",
        "for filename in filenames :\n",
        "    filepath = os.path.join(root,filename)\n",
        "    image = ndimage.imread(filepath)\n",
        "    image = misc.imresize(image,(256,256))\n",
        "    melanoma_images.append(image)"
      ],
      "execution_count": 0,
      "outputs": []
    },
    {
      "metadata": {
        "id": "c0TXKnztrpKa",
        "colab_type": "code",
        "colab": {
          "autoexec": {
            "startup": false,
            "wait_interval": 0
          }
        }
      },
      "cell_type": "code",
      "source": [
        "root = \"C:/Mahe/Desktop/gt\""
      ],
      "execution_count": 0,
      "outputs": []
    },
    {
      "metadata": {
        "id": "3ywQo8OYT_d6",
        "colab_type": "code",
        "colab": {
          "autoexec": {
            "startup": false,
            "wait_interval": 0
          }
        }
      },
      "cell_type": "code",
      "source": [
        "ground_truth_images_melanoma = []\n",
        "for filename in filenames :\n",
        "    filename = filename[0:-4] + \"_segmentation.png\"\n",
        "    filepath = os.path.join(root,filename)\n",
        "    image = ndimage.imread(filepath, mode = 'L')\n",
        "    image = misc.imresize(image,(256,256))\n",
        "    ground_truth_images_melanoma.append(image)"
      ],
      "execution_count": 0,
      "outputs": []
    },
    {
      "metadata": {
        "id": "CPXcaPIprpKt",
        "colab_type": "code",
        "colab": {
          "autoexec": {
            "startup": false,
            "wait_interval": 0
          }
        },
        "outputId": "5f83ceb6-c929-4e29-c8ca-b2aedd1d5fd2"
      },
      "cell_type": "code",
      "source": [
        "plt.imshow(ground_truth_images_melanoma[6], cmap = \"gray\")"
      ],
      "execution_count": 0,
      "outputs": [
        {
          "output_type": "execute_result",
          "data": {
            "text/plain": [
              "<matplotlib.image.AxesImage at 0x7f8d98ee5b90>"
            ]
          },
          "metadata": {
            "tags": []
          },
          "execution_count": 14
        },
        {
          "output_type": "display_data",
          "data": {
            "image/png": "[encoded data removed]",
            "text/plain": [
              "<matplotlib.figure.Figure at 0x7f8d98f7aad0>"
            ]
          },
          "metadata": {
            "tags": []
          }
        }
      ]
    },
    {
      "metadata": {
        "id": "eMm3j1qRrpK4",
        "colab_type": "code",
        "colab": {
          "autoexec": {
            "startup": false,
            "wait_interval": 0
          }
        },
        "outputId": "79cb09fd-f97e-45da-cbb6-0823c87c07bc"
      },
      "cell_type": "code",
      "source": [
        "np.unique(ground_truth_images_melanoma[6])"
      ],
      "execution_count": 0,
      "outputs": [
        {
          "output_type": "execute_result",
          "data": {
            "text/plain": [
              "array([  0,   1,   2,   3,   4,   5,   6,   7,   8,   9,  10,  11,  12,\n",
              "        13,  14,  15,  16,  17,  18,  19,  20,  21,  22,  23,  24,  25,\n",
              "        26,  27,  28,  29,  30,  31,  32,  33,  34,  35,  36,  37,  38,\n",
              "        39,  40,  41,  42,  43,  44,  45,  46,  47,  48,  49,  50,  51,\n",
              "        52,  53,  54,  56,  57,  58,  60,  61,  62,  63,  64,  65,  66,\n",
              "        67,  68,  69,  70,  71,  72,  73,  74,  75,  76,  77,  78,  79,\n",
              "        80,  81,  82,  83,  84,  85,  86,  87,  88,  89,  90,  91,  92,\n",
              "        93,  94,  95,  96,  98,  99, 100, 101, 102, 103, 104, 105, 106,\n",
              "       107, 108, 109, 110, 111, 112, 113, 116, 117, 118, 119, 120, 121,\n",
              "       122, 123, 124, 125, 126, 127, 128, 129, 130, 131, 132, 133, 134,\n",
              "       135, 136, 137, 138, 139, 140, 141, 142, 143, 144, 145, 146, 147,\n",
              "       148, 149, 150, 151, 152, 153, 154, 155, 158, 159, 160, 161, 162,\n",
              "       163, 164, 165, 166, 167, 168, 169, 170, 171, 172, 173, 174, 175,\n",
              "       176, 177, 178, 179, 180, 181, 182, 183, 184, 185, 186, 187, 188,\n",
              "       189, 190, 191, 192, 193, 194, 195, 196, 197, 198, 199, 200, 201,\n",
              "       202, 203, 204, 205, 206, 207, 208, 209, 210, 211, 212, 213, 214,\n",
              "       215, 216, 217, 218, 219, 220, 221, 222, 223, 224, 225, 226, 227,\n",
              "       228, 229, 230, 231, 232, 233, 234, 235, 236, 237, 238, 239, 240,\n",
              "       241, 242, 243, 244, 245, 246, 247, 248, 249, 250, 251, 252, 253,\n",
              "       254, 255], dtype=uint8)"
            ]
          },
          "metadata": {
            "tags": []
          },
          "execution_count": 15
        }
      ]
    },
    {
      "metadata": {
        "id": "r_2EIXV8rpLG",
        "colab_type": "code",
        "colab": {
          "autoexec": {
            "startup": false,
            "wait_interval": 0
          }
        },
        "outputId": "192dd472-5e73-47e7-cf95-c2cb65a693e5"
      },
      "cell_type": "code",
      "source": [
        "ground_truth_images_melanoma[6].shape"
      ],
      "execution_count": 0,
      "outputs": [
        {
          "output_type": "execute_result",
          "data": {
            "text/plain": [
              "(256, 256)"
            ]
          },
          "metadata": {
            "tags": []
          },
          "execution_count": 16
        }
      ]
    },
    {
      "metadata": {
        "id": "DdVOBrgIrpLT",
        "colab_type": "code",
        "colab": {
          "autoexec": {
            "startup": false,
            "wait_interval": 0
          }
        }
      },
      "cell_type": "code",
      "source": [
        "import cv2"
      ],
      "execution_count": 0,
      "outputs": []
    },
    {
      "metadata": {
        "id": "gJtkPoUrrpLc",
        "colab_type": "code",
        "colab": {
          "autoexec": {
            "startup": false,
            "wait_interval": 0
          }
        }
      },
      "cell_type": "code",
      "source": [
        "ret,thresh_img = cv2.threshold(ground_truth_images_melanoma[6],127,255,cv2.THRESH_BINARY)"
      ],
      "execution_count": 0,
      "outputs": []
    },
    {
      "metadata": {
        "id": "Gd0NAfFfrpLr",
        "colab_type": "code",
        "colab": {
          "autoexec": {
            "startup": false,
            "wait_interval": 0
          }
        }
      },
      "cell_type": "code",
      "source": [
        "root_path = \"\"\n",
        "filenames = []\n",
        "for root, dirnames, filenames in os.walk(\"C:/Mahe/Desktop/gt/\"):\n",
        "    filenames.sort(key = natural_keys)\n",
        "    rootpath = root"
      ],
      "execution_count": 0,
      "outputs": []
    },
    {
      "metadata": {
        "id": "1Wt3zLXOTRKG",
        "colab_type": "code",
        "colab": {
          "autoexec": {
            "startup": false,
            "wait_interval": 0
          }
        }
      },
      "cell_type": "code",
      "source": [
        "ground_truth_images_melanoma = []\n",
        "for filename in filenames :\n",
        "    filepath = os.path.join(root,filename)\n",
        "    image = ndimage.imread(filepath, mode = 'L')\n",
        "    image = misc.imresize(image,(256,256))\n",
        "    ret,image = cv2.threshold(image,127,255,cv2.THRESH_BINARY)\n",
        "    ground_truth_images_melanoma.append(image)"
      ],
      "execution_count": 0,
      "outputs": []
    },
    {
      "metadata": {
        "id": "cU1dGUyRrpL_",
        "colab_type": "code",
        "colab": {
          "autoexec": {
            "startup": false,
            "wait_interval": 0
          }
        }
      },
      "cell_type": "code",
      "source": [
        "from scipy.misc import imsave"
      ],
      "execution_count": 0,
      "outputs": []
    },
    {
      "metadata": {
        "id": "U-LRedXqrpMG",
        "colab_type": "code",
        "colab": {
          "autoexec": {
            "startup": false,
            "wait_interval": 0
          }
        },
        "outputId": "dfd47eaf-7161-46f6-9d9d-f7c3bfb8446d"
      },
      "cell_type": "code",
      "source": [
        "len(ground_truth_images_melanoma)"
      ],
      "execution_count": 0,
      "outputs": [
        {
          "output_type": "execute_result",
          "data": {
            "text/plain": [
              "2000"
            ]
          },
          "metadata": {
            "tags": []
          },
          "execution_count": 28
        }
      ]
    },
    {
      "metadata": {
        "id": "t0qyHYrHrpMT",
        "colab_type": "code",
        "colab": {
          "autoexec": {
            "startup": false,
            "wait_interval": 0
          }
        },
        "outputId": "afb289e8-1e84-4577-f709-d5c0b38008ec"
      },
      "cell_type": "code",
      "source": [
        "for i in range(len(ground_truth_images_melanoma)) :\n",
        "    imsave('C:/Mahe/Desktop/gt_resized/'+filenames[i],ground_truth_images_melanoma[i])"
      ],
      "execution_count": 0,
      "outputs": [
        {
          "output_type": "stream",
          "text": [
            "/usr/local/lib/python2.7/dist-packages/ipykernel_launcher.py:2: DeprecationWarning: `imsave` is deprecated!\n",
            "`imsave` is deprecated in SciPy 1.0.0, and will be removed in 1.2.0.\n",
            "Use ``imageio.imwrite`` instead.\n",
            "  \n"
          ],
          "name": "stderr"
        }
      ]
    },
    {
      "metadata": {
        "id": "1os30f1vrpMc",
        "colab_type": "code",
        "colab": {
          "autoexec": {
            "startup": false,
            "wait_interval": 0
          }
        }
      },
      "cell_type": "code",
      "source": [
        "root_path = \"\"\n",
        "filenames = []\n",
        "for root, dirnames, filenames in os.walk(\"C:/Mahe/Desktop/melanoma/\"):\n",
        "    filenames.sort(key = natural_keys)\n",
        "    rootpath = root"
      ],
      "execution_count": 0,
      "outputs": []
    },
    {
      "metadata": {
        "id": "qZ7a3qV7TbZQ",
        "colab_type": "code",
        "colab": {
          "autoexec": {
            "startup": false,
            "wait_interval": 0
          }
        }
      },
      "cell_type": "code",
      "source": [
        "for i in range(len(melanoma_images)):\n",
        "    imsave(\"C:/Mahe/Desktop/melanoma_resized/\" + filenames[i], melanoma_images[i])"
      ],
      "execution_count": 0,
      "outputs": []
    },
    {
      "metadata": {
        "id": "JjiLqJQNTeeJ",
        "colab_type": "code",
        "colab": {
          "autoexec": {
            "startup": false,
            "wait_interval": 0
          }
        }
      },
      "cell_type": "code",
      "source": [
        "image = ndimage.imread(\"C:/Mahe/Desktop/gt_resized/ISIC_0000000_segmentation.png\", mode = 'L')"
      ],
      "execution_count": 0,
      "outputs": []
    },
    {
      "metadata": {
        "id": "QCw5Wz0crpM4",
        "colab_type": "code",
        "colab": {
          "autoexec": {
            "startup": false,
            "wait_interval": 0
          }
        },
        "outputId": "c191efa9-f9ba-4ebc-da43-c2471a102f01"
      },
      "cell_type": "code",
      "source": [
        "image.shape"
      ],
      "execution_count": 0,
      "outputs": [
        {
          "output_type": "execute_result",
          "data": {
            "text/plain": [
              "(256, 256)"
            ]
          },
          "metadata": {
            "tags": []
          },
          "execution_count": 35
        }
      ]
    },
    {
      "metadata": {
        "id": "eOB6GrGqrpM_",
        "colab_type": "code",
        "colab": {
          "autoexec": {
            "startup": false,
            "wait_interval": 0
          }
        },
        "outputId": "789ae2ec-1fbf-456e-d750-1384e8156f13"
      },
      "cell_type": "code",
      "source": [
        "np.unique(image)"
      ],
      "execution_count": 0,
      "outputs": [
        {
          "output_type": "execute_result",
          "data": {
            "text/plain": [
              "array([  0, 255], dtype=uint8)"
            ]
          },
          "metadata": {
            "tags": []
          },
          "execution_count": 36
        }
      ]
    },
    {
      "metadata": {
        "id": "jJg4CFUDrpNG",
        "colab_type": "code",
        "colab": {
          "autoexec": {
            "startup": false,
            "wait_interval": 0
          }
        }
      },
      "cell_type": "code",
      "source": [
        "gt = np.array(ground_truth_images_melanoma)"
      ],
      "execution_count": 0,
      "outputs": []
    },
    {
      "metadata": {
        "id": "06GKjDqLrpNR",
        "colab_type": "code",
        "colab": {
          "autoexec": {
            "startup": false,
            "wait_interval": 0
          }
        },
        "outputId": "cfa01cf4-2295-44b0-e046-2f4663578c8b"
      },
      "cell_type": "code",
      "source": [
        "gt.shape"
      ],
      "execution_count": 0,
      "outputs": [
        {
          "output_type": "execute_result",
          "data": {
            "text/plain": [
              "(2000, 256, 256)"
            ]
          },
          "metadata": {
            "tags": []
          },
          "execution_count": 38
        }
      ]
    },
    {
      "metadata": {
        "id": "MKkJ3J7BrpNb",
        "colab_type": "code",
        "colab": {
          "autoexec": {
            "startup": false,
            "wait_interval": 0
          }
        },
        "outputId": "5e022135-4ca8-4ce2-951c-ebcf64156b1c"
      },
      "cell_type": "code",
      "source": [
        "np.unique(gt)"
      ],
      "execution_count": 0,
      "outputs": [
        {
          "output_type": "execute_result",
          "data": {
            "text/plain": [
              "array([  0, 255], dtype=uint8)"
            ]
          },
          "metadata": {
            "tags": []
          },
          "execution_count": 39
        }
      ]
    },
    {
      "metadata": {
        "id": "F4td9g4wrpNn",
        "colab_type": "code",
        "colab": {
          "autoexec": {
            "startup": false,
            "wait_interval": 0
          }
        }
      },
      "cell_type": "code",
      "source": [
        "gt = gt/255"
      ],
      "execution_count": 0,
      "outputs": []
    },
    {
      "metadata": {
        "id": "5gTcPKvgrpNu",
        "colab_type": "code",
        "colab": {
          "autoexec": {
            "startup": false,
            "wait_interval": 0
          }
        },
        "outputId": "ade72e1a-54e2-4723-ee09-b464fe7416ae"
      },
      "cell_type": "code",
      "source": [
        "np.unique(gt)"
      ],
      "execution_count": 0,
      "outputs": [
        {
          "output_type": "execute_result",
          "data": {
            "text/plain": [
              "array([0, 1], dtype=uint8)"
            ]
          },
          "metadata": {
            "tags": []
          },
          "execution_count": 41
        }
      ]
    },
    {
      "metadata": {
        "id": "klxwU8wMrpN3",
        "colab_type": "code",
        "colab": {
          "autoexec": {
            "startup": false,
            "wait_interval": 0
          }
        },
        "outputId": "ed33b810-f2a0-4eae-8f7e-e190c26e358b"
      },
      "cell_type": "code",
      "source": [
        "plt.imshow(gt[6],cmap = \"gray\")"
      ],
      "execution_count": 0,
      "outputs": [
        {
          "output_type": "execute_result",
          "data": {
            "text/plain": [
              "<matplotlib.image.AxesImage at 0x7f8d98077090>"
            ]
          },
          "metadata": {
            "tags": []
          },
          "execution_count": 44
        },
        {
          "output_type": "display_data",
          "data": {
            "image/png": "[encoded data removed]",
            "text/plain": [
              "<matplotlib.figure.Figure at 0x7f8d98c2b890>"
            ]
          },
          "metadata": {
            "tags": []
          }
        }
      ]
    },
    {
      "metadata": {
        "id": "4EZ9pYMLrpOA",
        "colab_type": "code",
        "colab": {
          "autoexec": {
            "startup": false,
            "wait_interval": 0
          }
        },
        "outputId": "7378ce65-0739-42e2-c819-edb42e6436c8"
      },
      "cell_type": "code",
      "source": [
        "plt.imshow(ground_truth_images_melanoma[6], cmap = \"gray\")"
      ],
      "execution_count": 0,
      "outputs": [
        {
          "output_type": "execute_result",
          "data": {
            "text/plain": [
              "<matplotlib.image.AxesImage at 0x7f8d981cc7d0>"
            ]
          },
          "metadata": {
            "tags": []
          },
          "execution_count": 45
        },
        {
          "output_type": "display_data",
          "data": {
            "image/png": "[encoded data removed]",
            "text/plain": [
              "<matplotlib.figure.Figure at 0x7f8d98187250>"
            ]
          },
          "metadata": {
            "tags": []
          }
        }
      ]
    },
    {
      "metadata": {
        "id": "CALdZQ3ErpOG",
        "colab_type": "code",
        "colab": {
          "autoexec": {
            "startup": false,
            "wait_interval": 0
          }
        }
      },
      "cell_type": "code",
      "source": [
        "root_path = \"\"\n",
        "filenames = []\n",
        "for root, dirnames, filenames in os.walk(\"C:/Mahe/Desktop/others/\"):\n",
        "    filenames.sort(key = natural_keys)\n",
        "    rootpath = root"
      ],
      "execution_count": 0,
      "outputs": []
    },
    {
      "metadata": {
        "id": "XFaiHIEBTleH",
        "colab_type": "code",
        "colab": {
          "autoexec": {
            "startup": false,
            "wait_interval": 0
          }
        }
      },
      "cell_type": "code",
      "source": [
        "other_images = []\n",
        "for filename in filenames :\n",
        "    filepath = os.path.join(root,filename)\n",
        "    image = ndimage.imread(filepath)\n",
        "    image = misc.imresize(image,(256,256))\n",
        "    other_images.append(image)"
      ],
      "execution_count": 0,
      "outputs": []
    },
    {
      "metadata": {
        "id": "yA9cQv5tTp75",
        "colab_type": "code",
        "colab": {
          "autoexec": {
            "startup": false,
            "wait_interval": 0
          }
        }
      },
      "cell_type": "code",
      "source": [
        "for i in range(len(other_images)):\n",
        "    imsave(\"C:/Mahe/Desktop/Others_resized/\" + filenames[i], other_images[i])"
      ],
      "execution_count": 0,
      "outputs": []
    },
    {
      "metadata": {
        "id": "c02rDUGrrpOZ",
        "colab_type": "code",
        "colab": {
          "autoexec": {
            "startup": false,
            "wait_interval": 0
          }
        },
        "outputId": "af7cb687-f7d5-48fb-d7b3-f9348d938800"
      },
      "cell_type": "code",
      "source": [
        "np.unique(gt[0])"
      ],
      "execution_count": 0,
      "outputs": [
        {
          "output_type": "execute_result",
          "data": {
            "text/plain": [
              "array([0, 1], dtype=uint8)"
            ]
          },
          "metadata": {
            "tags": []
          },
          "execution_count": 52
        }
      ]
    },
    {
      "metadata": {
        "id": "0YZHnFJDrpOd",
        "colab_type": "code",
        "colab": {
          "autoexec": {
            "startup": false,
            "wait_interval": 0
          }
        },
        "outputId": "0378e231-a4ef-4125-8f76-52d4000a48d4"
      },
      "cell_type": "code",
      "source": [
        "plt.imshow(gt[0])"
      ],
      "execution_count": 0,
      "outputs": [
        {
          "output_type": "execute_result",
          "data": {
            "text/plain": [
              "<matplotlib.image.AxesImage at 0x7f8d90155690>"
            ]
          },
          "metadata": {
            "tags": []
          },
          "execution_count": 53
        },
        {
          "output_type": "display_data",
          "data": {
            "image/png": "[encoded data removed]",
            "text/plain": [
              "<matplotlib.figure.Figure at 0x7f8d981cf750>"
            ]
          },
          "metadata": {
            "tags": []
          }
        }
      ]
    },
    {
      "metadata": {
        "id": "UkbuilW3rpOg",
        "colab_type": "code",
        "colab": {
          "autoexec": {
            "startup": false,
            "wait_interval": 0
          }
        }
      },
      "cell_type": "code",
      "source": [
        "np.save(\"ground_truth_resized.npy\", gt)"
      ],
      "execution_count": 0,
      "outputs": []
    },
    {
      "metadata": {
        "id": "HyGlVedHrpOi",
        "colab_type": "code",
        "colab": {
          "autoexec": {
            "startup": false,
            "wait_interval": 0
          }
        }
      },
      "cell_type": "code",
      "source": [
        "root_path = \"\"\n",
        "filenames = []\n",
        "for root, dirnames, filenames in os.walk(\"C:/Mahe/Desktop/Total_train_segmentation/\"):\n",
        "    filenames.sort(key = natural_keys)\n",
        "    rootpath = root"
      ],
      "execution_count": 0,
      "outputs": []
    },
    {
      "metadata": {
        "id": "rVHDaLuzTv0g",
        "colab_type": "code",
        "colab": {
          "autoexec": {
            "startup": false,
            "wait_interval": 0
          }
        }
      },
      "cell_type": "code",
      "source": [
        "total_images = []\n",
        "for filename in filenames :\n",
        "    filepath = os.path.join(root,filename)\n",
        "    image = ndimage.imread(filepath)\n",
        "    total_images.append(image)"
      ],
      "execution_count": 0,
      "outputs": []
    },
    {
      "metadata": {
        "id": "9sJ37UPYrpOm",
        "colab_type": "code",
        "colab": {
          "autoexec": {
            "startup": false,
            "wait_interval": 0
          }
        }
      },
      "cell_type": "code",
      "source": [
        "total_images = np.array(total_images)"
      ],
      "execution_count": 0,
      "outputs": []
    },
    {
      "metadata": {
        "id": "l5VBWFdhrpOn",
        "colab_type": "code",
        "colab": {
          "autoexec": {
            "startup": false,
            "wait_interval": 0
          }
        },
        "outputId": "c6b1e71d-f983-4cf0-9b41-44ec6d87fe00"
      },
      "cell_type": "code",
      "source": [
        "total_images.shape"
      ],
      "execution_count": 0,
      "outputs": [
        {
          "output_type": "execute_result",
          "data": {
            "text/plain": [
              "(2000, 256, 256, 3)"
            ]
          },
          "metadata": {
            "tags": []
          },
          "execution_count": 59
        }
      ]
    },
    {
      "metadata": {
        "id": "3NmzihuqrpOq",
        "colab_type": "code",
        "colab": {
          "autoexec": {
            "startup": false,
            "wait_interval": 0
          }
        }
      },
      "cell_type": "code",
      "source": [
        "np.save(\"total_images.npy\",total_images)"
      ],
      "execution_count": 0,
      "outputs": []
    },
    {
      "metadata": {
        "id": "JZtYk5DBrpOr",
        "colab_type": "code",
        "colab": {
          "autoexec": {
            "startup": false,
            "wait_interval": 0
          }
        },
        "outputId": "0908d4f2-5322-422a-9a60-4d4bf04724dd"
      },
      "cell_type": "code",
      "source": [
        "plt.imshow(total_images[10])"
      ],
      "execution_count": 0,
      "outputs": [
        {
          "output_type": "execute_result",
          "data": {
            "text/plain": [
              "<matplotlib.image.AxesImage at 0x7f8d80040a90>"
            ]
          },
          "metadata": {
            "tags": []
          },
          "execution_count": 62
        },
        {
          "output_type": "display_data",
          "data": {
            "image/png": "[encoded data removed]",
            "text/plain": [
              "<matplotlib.figure.Figure at 0x7f8d900857d0>"
            ]
          },
          "metadata": {
            "tags": []
          }
        }
      ]
    },
    {
      "metadata": {
        "id": "nmNJ2b8_rpO0",
        "colab_type": "code",
        "colab": {
          "autoexec": {
            "startup": false,
            "wait_interval": 0
          }
        },
        "outputId": "73a56ec4-2486-44b4-8143-4ab420913f7f"
      },
      "cell_type": "code",
      "source": [
        "plt.imshow(gt[10])"
      ],
      "execution_count": 0,
      "outputs": [
        {
          "output_type": "execute_result",
          "data": {
            "text/plain": [
              "<matplotlib.image.AxesImage at 0x7f8d6a8c3290>"
            ]
          },
          "metadata": {
            "tags": []
          },
          "execution_count": 63
        },
        {
          "output_type": "display_data",
          "data": {
            "image/png": "[encoded data removed]",
            "text/plain": [
              "<matplotlib.figure.Figure at 0x7f8d900531d0>"
            ]
          },
          "metadata": {
            "tags": []
          }
        }
      ]
    },
    {
      "metadata": {
        "id": "1Ji7EKByrpO5",
        "colab_type": "code",
        "colab": {
          "autoexec": {
            "startup": false,
            "wait_interval": 0
          }
        }
      },
      "cell_type": "code",
      "source": [
        ""
      ],
      "execution_count": 0,
      "outputs": []
    }
  ]
}